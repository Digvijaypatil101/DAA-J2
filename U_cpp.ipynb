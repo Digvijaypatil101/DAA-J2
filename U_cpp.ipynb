{
  "nbformat": 4,
  "nbformat_minor": 0,
  "metadata": {
    "colab": {
      "provenance": [],
      "authorship_tag": "ABX9TyN7BjFYXS+TdjJ0k7h4fA20",
      "include_colab_link": true
    },
    "kernelspec": {
      "name": "python3",
      "display_name": "Python 3"
    },
    "language_info": {
      "name": "python"
    }
  },
  "cells": [
    {
      "cell_type": "markdown",
      "metadata": {
        "id": "view-in-github",
        "colab_type": "text"
      },
      "source": [
        "<a href=\"https://colab.research.google.com/github/Digvijaypatil101/DAA-J2/blob/main/U_cpp.ipynb\" target=\"_parent\"><img src=\"https://colab.research.google.com/assets/colab-badge.svg\" alt=\"Open In Colab\"/></a>"
      ]
    },
    {
      "cell_type": "code",
      "execution_count": 14,
      "metadata": {
        "colab": {
          "base_uri": "https://localhost:8080/"
        },
        "id": "D71rz5zsOfkT",
        "outputId": "554931c0-d20c-4c2d-9eec-db41a63f33d1"
      },
      "outputs": [
        {
          "output_type": "stream",
          "name": "stdout",
          "text": [
            "Writing pattern8.cpp\n"
          ]
        }
      ],
      "source": [
        "%%writefile pattern8.cpp\n",
        "#include <iostream>\n",
        "using namespace std;\n",
        "\n",
        "int main() {\n",
        "    int n;\n",
        "    cin >> n;\n",
        "\n",
        "    n = 2 * n - 1; // As number of rows are 1 less than two times n\n",
        "    int nst = n / 2; // Initialize number of stars\n",
        "    int nsp = 0; // Initialize number of spaces\n",
        "    int nsta = n / 2; // Initialize number of stars after spaces\n",
        "\n",
        "    // Outer loop to handle number of rows\n",
        "    for (int i = 1; i <= n; i++) {\n",
        "        // Work for stars\n",
        "        for (int cst = 0; cst <= nst; cst++) {\n",
        "            cout << \"*\";\n",
        "        }\n",
        "\n",
        "        // Work for spaces\n",
        "        for (int csp = 1; csp < nsp; csp++) {\n",
        "            cout << \" \";\n",
        "        }\n",
        "\n",
        "        // Work for stars\n",
        "        for (int cst = 1; cst <= nsta; cst++) {\n",
        "            cout << \"*\";\n",
        "        }\n",
        "\n",
        "        // Preparation for next iteration\n",
        "        if (i > 1 && i <= n / 2)\n",
        "            nsta = nsta - 1;\n",
        "        if (i > n / 2 && i < n - 1)\n",
        "            nsta = nsta + 1;\n",
        "\n",
        "        if (i <= n / 2) {\n",
        "            nst = nst - 1;\n",
        "            nsp = nsp + 2;\n",
        "        } else {\n",
        "            nst = nst + 1;\n",
        "            nsp = nsp - 2;\n",
        "        }\n",
        "\n",
        "        cout << endl;\n",
        "    }\n",
        "\n",
        "    return 0;\n",
        "}\n"
      ]
    },
    {
      "cell_type": "code",
      "source": [
        "!g++ pattern8.cpp -o pattern8\n",
        "!echo 5 | ./pattern8\n"
      ],
      "metadata": {
        "colab": {
          "base_uri": "https://localhost:8080/"
        },
        "id": "sMTQFXILQKtL",
        "outputId": "1cf98cb3-46d0-475f-998b-62a47888c169"
      },
      "execution_count": 15,
      "outputs": [
        {
          "output_type": "stream",
          "name": "stdout",
          "text": [
            "*********\n",
            "**** ****\n",
            "***   ***\n",
            "**     **\n",
            "*       *\n",
            "**     **\n",
            "***   ***\n",
            "**** ****\n",
            "*********\n"
          ]
        }
      ]
    }
  ]
}